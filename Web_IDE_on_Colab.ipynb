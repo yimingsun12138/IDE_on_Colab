{
  "nbformat": 4,
  "nbformat_minor": 0,
  "metadata": {
    "colab": {
      "provenance": [],
      "authorship_tag": "ABX9TyO9gURGrPp1qRCikFQsGBfZ",
      "include_colab_link": true
    },
    "kernelspec": {
      "name": "python3",
      "display_name": "Python 3"
    },
    "language_info": {
      "name": "python"
    }
  },
  "cells": [
    {
      "cell_type": "markdown",
      "metadata": {
        "id": "view-in-github",
        "colab_type": "text"
      },
      "source": [
        "<a href=\"https://colab.research.google.com/github/yimingsun12138/IDE_on_Colab/blob/main/Web_IDE_on_Colab.ipynb\" target=\"_parent\"><img src=\"https://colab.research.google.com/assets/colab-badge.svg\" alt=\"Open In Colab\"/></a>"
      ]
    },
    {
      "cell_type": "markdown",
      "source": [
        "# Check Google Colab IP location\n",
        "Re-connect the Colab server if you do not like the IP location."
      ],
      "metadata": {
        "id": "3GZeboM_UT38"
      }
    },
    {
      "cell_type": "code",
      "source": [
        "!curl getip.mrdoge.cool"
      ],
      "metadata": {
        "id": "jGBFZZ3BUjoZ"
      },
      "execution_count": null,
      "outputs": []
    },
    {
      "cell_type": "markdown",
      "source": [
        "# Global setting"
      ],
      "metadata": {
        "id": "hbN_wM62Up7z"
      }
    },
    {
      "cell_type": "code",
      "source": [
        "#@title IDE settings { display-mode: \"form\" }\n",
        "\n",
        "#@markdown Choose the IDE and tunnelling method you prefer.\n",
        "\n",
        "web_IDE = 'Rstudio server' #@param [\"Rstudio server\", \"code server\"]\n",
        "tunnelling = 'localtunnel' #@param [\"localtunnel\", \"ngrok\", \"customize\"]"
      ],
      "metadata": {
        "id": "y4EDhk8jUv1u"
      },
      "execution_count": null,
      "outputs": []
    },
    {
      "cell_type": "code",
      "source": [
        "#@title User info { display-mode: \"form\" }\n",
        "\n",
        "#@markdown Input the Linux user info.\n",
        "\n",
        "user_name = 'Knight' #@param { type: \"string\" }\n",
        "user_password = 'midnight' #@param { type: \"string\" }"
      ],
      "metadata": {
        "id": "GqBZ-_YGU7kb"
      },
      "execution_count": null,
      "outputs": []
    },
    {
      "cell_type": "code",
      "source": [
        "#@title Colab settings { display-mode: \"form\" }\n",
        "\n",
        "#@markdown Choose whether mount Google Drive.\n",
        "\n",
        "mount_Google_Drive = False #@param { type: \"boolean\" }\n",
        "\n",
        "#@markdown Choose whether output detailed running log.\n",
        "\n",
        "running_verbose = False #@param { type: \"boolean\" }\n",
        "\n",
        "#@markdown Choose whether to keep the Colab notebook busy.\n",
        "\n",
        "keep_busy = False #@param { type: \"boolean\" }"
      ],
      "metadata": {
        "id": "c-YbYvcIVDGt"
      },
      "execution_count": null,
      "outputs": []
    },
    {
      "cell_type": "markdown",
      "source": [
        "# Update environment"
      ],
      "metadata": {
        "id": "ipnH20nBVI7o"
      }
    },
    {
      "cell_type": "code",
      "source": [
        "%%capture\n",
        "!apt update\n",
        "!apt upgrade\n",
        "!apt autoremove"
      ],
      "metadata": {
        "id": "Uji-hbnpVQt3"
      },
      "execution_count": null,
      "outputs": []
    },
    {
      "cell_type": "markdown",
      "source": [
        "# Source code"
      ],
      "metadata": {
        "id": "yxbfo1M4VWog"
      }
    },
    {
      "cell_type": "code",
      "source": [
        "%%capture\n",
        "import os\n",
        "import sys\n",
        "!git clone https://github.com/yimingsun12138/IDE_on_Colab.git"
      ],
      "metadata": {
        "id": "rppuEjauVaQp"
      },
      "execution_count": null,
      "outputs": []
    },
    {
      "cell_type": "code",
      "source": [
        "%%capture\n",
        "sys.path.append(\"/content/IDE_on_Colab/Colab_tools\")\n",
        "import Colab_tools"
      ],
      "metadata": {
        "id": "JDfQNDcofD8L"
      },
      "execution_count": null,
      "outputs": []
    },
    {
      "cell_type": "code",
      "source": [
        "Google_Colab = Colab_tools.Colab_IDE(IDE=web_IDE,tunnelling=tunnelling,name=user_name,password=user_password,mount_GD=mount_Google_Drive)"
      ],
      "metadata": {
        "id": "iscc9WDofq48"
      },
      "execution_count": null,
      "outputs": []
    },
    {
      "cell_type": "markdown",
      "source": [
        "# Install web IDE"
      ],
      "metadata": {
        "id": "HYZ_czX6Vrs8"
      }
    },
    {
      "cell_type": "code",
      "source": [
        "if (Google_Colab.IDE == 'Rstudio server'):\n",
        "  Google_Colab.Install_Rstudio_server(verbose=running_verbose)\n",
        "elif (Google_Colab.IDE == 'code server'):\n",
        "  Google_Colab.Install_code_server(verbose=running_verbose)"
      ],
      "metadata": {
        "id": "siXFVSwoVzgQ"
      },
      "execution_count": null,
      "outputs": []
    },
    {
      "cell_type": "markdown",
      "source": [
        "# Tunnelling"
      ],
      "metadata": {
        "id": "_zUwzkdmV5WX"
      }
    },
    {
      "cell_type": "code",
      "source": [
        "if (Google_Colab.tunnelling == 'localtunnel'):\n",
        "  Google_Colab.Run_localtunnel()\n",
        "  !cat /content/IDE_on_Colab/localtunnel.log | grep \"your url is:\"\n",
        "elif (Google_Colab.tunnelling == 'ngrok'):\n",
        "  Google_Colab.Run_ngrok()\n",
        "  !cat /content/IDE_on_Colab/ngrok.log | grep 'started tunnel'"
      ],
      "metadata": {
        "id": "jn2VmDkRV_sH"
      },
      "execution_count": null,
      "outputs": []
    },
    {
      "cell_type": "markdown",
      "source": [
        "# Keep Colab notebook busy"
      ],
      "metadata": {
        "id": "_7iXVDmDWGRN"
      }
    },
    {
      "cell_type": "code",
      "source": [
        "if (Google_Colab.tunnelling == 'customize'):\n",
        "  print(\"Use your own tunnelling method below!\")\n",
        "elif keep_busy:\n",
        "  import numpy as np\n",
        "  import time\n",
        "  ii = 1\n",
        "\n",
        "  while True:\n",
        "    i = np.random.rand(100,100)\n",
        "    i = np.dot(i,i)\n",
        "    i = 'round ' + str(ii)\n",
        "    print(i)\n",
        "    ii = ii + 1\n",
        "    time.sleep(60)"
      ],
      "metadata": {
        "id": "_wNkf3grWK9t"
      },
      "execution_count": null,
      "outputs": []
    },
    {
      "cell_type": "markdown",
      "source": [
        "All done!  \n",
        "Have a nice day!"
      ],
      "metadata": {
        "id": "9oRXngkkYxTQ"
      }
    }
  ]
}