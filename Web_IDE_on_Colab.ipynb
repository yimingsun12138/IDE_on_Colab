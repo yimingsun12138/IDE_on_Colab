{
  "nbformat": 4,
  "nbformat_minor": 0,
  "metadata": {
    "colab": {
      "provenance": [],
      "authorship_tag": "ABX9TyMBrrgrl9NmKGAhZWf1VIcA",
      "include_colab_link": true
    },
    "kernelspec": {
      "name": "python3",
      "display_name": "Python 3"
    },
    "language_info": {
      "name": "python"
    }
  },
  "cells": [
    {
      "cell_type": "markdown",
      "metadata": {
        "id": "view-in-github",
        "colab_type": "text"
      },
      "source": [
        "<a href=\"https://colab.research.google.com/github/yimingsun12138/IDE_on_Colab/blob/main/Web_IDE_on_Colab.ipynb\" target=\"_parent\"><img src=\"https://colab.research.google.com/assets/colab-badge.svg\" alt=\"Open In Colab\"/></a>"
      ]
    },
    {
      "cell_type": "markdown",
      "source": [
        "# Check Google Colab IP location\n",
        "Re-connect the Colab server if you do not like the IP location."
      ],
      "metadata": {
        "id": "e4zgmqamv4Y_"
      }
    },
    {
      "cell_type": "code",
      "source": [
        "!curl getip.mrdoge.cool"
      ],
      "metadata": {
        "id": "XmsrfeFmwVN8"
      },
      "execution_count": null,
      "outputs": []
    },
    {
      "cell_type": "markdown",
      "source": [
        "# Global setting"
      ],
      "metadata": {
        "id": "9U5ZlDgXwhOw"
      }
    },
    {
      "cell_type": "code",
      "source": [
        "#@title Global setting\n",
        "\n",
        "#@markdown Choose web IDE and set user info.\n",
        "\n",
        "web_IDE = 'Rstudio server' #@param [\"Rstudio server\", \"code server\"]\n",
        "user_name = 'Knight' #@param {type:\"string\"}\n",
        "user_password = 'midnight' #@param {type:\"string\"}\n",
        "\n",
        "#@markdown Default using localtunnel for tunnelling.\n",
        "\n",
        "use_localtunnel = True #@param {type:\"boolean\"}\n",
        "\n",
        "#@markdown Leave the parameters alone if you do not choose code server.\n",
        "\n",
        "code_server_port = '8585' #@param {type:\"string\"}\n",
        "code_server_password = 'evernight' #@param {type:\"string\"}"
      ],
      "metadata": {
        "cellView": "form",
        "id": "ayNcoAetwl_t"
      },
      "execution_count": null,
      "outputs": []
    },
    {
      "cell_type": "markdown",
      "source": [
        "# Install web IDE"
      ],
      "metadata": {
        "id": "QpOkkwAHz-E4"
      }
    },
    {
      "cell_type": "markdown",
      "source": [
        "## Update environment"
      ],
      "metadata": {
        "id": "9B0l0aeR0Fl2"
      }
    },
    {
      "cell_type": "code",
      "source": [
        "!apt update\n",
        "!apt upgrade\n",
        "!apt autoremove"
      ],
      "metadata": {
        "id": "VbcKXMbM0N9j"
      },
      "execution_count": null,
      "outputs": []
    },
    {
      "cell_type": "markdown",
      "source": [
        "## Clone source code"
      ],
      "metadata": {
        "id": "eOEUM_080eFh"
      }
    },
    {
      "cell_type": "code",
      "source": [
        "!git clone https://github.com/yimingsun12138/IDE_on_Colab.git"
      ],
      "metadata": {
        "id": "6vFMRgnz0jBq"
      },
      "execution_count": null,
      "outputs": []
    },
    {
      "cell_type": "markdown",
      "source": [
        "## Add user"
      ],
      "metadata": {
        "id": "JVvfLJRh0yV7"
      }
    },
    {
      "cell_type": "code",
      "source": [
        "import os\n",
        "os.system(\"useradd -m -s /bin/bash \" + user_name)\n",
        "os.system(\"echo '\" + user_name + \":\" + user_password + \"' | chpasswd\")\n",
        "os.system(\"usermod -G sudo \" + user_name)"
      ],
      "metadata": {
        "id": "5oNacq0U01lc"
      },
      "execution_count": null,
      "outputs": []
    },
    {
      "cell_type": "markdown",
      "source": [
        "## Install dependency"
      ],
      "metadata": {
        "id": "aIRzRAzD1xEo"
      }
    },
    {
      "cell_type": "code",
      "source": [
        "!apt install expect"
      ],
      "metadata": {
        "id": "p5N1yNqE15B-"
      },
      "execution_count": null,
      "outputs": []
    },
    {
      "cell_type": "markdown",
      "source": [
        "## Install Rstudio server"
      ],
      "metadata": {
        "id": "nTM1jObC2AdM"
      }
    },
    {
      "cell_type": "code",
      "source": [
        "if web_IDE == 'Rstudio server':\n",
        "  os.system(\"bash /content/IDE_on_Colab/Install_Rstudio_server.sh\")\n",
        "  tunnel_port = '8787'"
      ],
      "metadata": {
        "id": "I9F9FTek2G-j"
      },
      "execution_count": null,
      "outputs": []
    },
    {
      "cell_type": "markdown",
      "source": [
        "## Install code server"
      ],
      "metadata": {
        "id": "aBqH3bHS2ogI"
      }
    },
    {
      "cell_type": "code",
      "source": [
        "if web_IDE == 'code server':\n",
        "  os.system(\"expect /content/IDE_on_Colab/Install_code_server.exp\" + \" \" + user_name + \" \" + user_password + \" \" + code_server_port + \" \" + code_server_password)\n",
        "  tunnel_port = code_server_port"
      ],
      "metadata": {
        "id": "xLHXJcfO2s4d"
      },
      "execution_count": null,
      "outputs": []
    },
    {
      "cell_type": "markdown",
      "source": [
        "# Install localtunnel"
      ],
      "metadata": {
        "id": "DmRngowq4Vji"
      }
    },
    {
      "cell_type": "code",
      "source": [
        "!touch /content/IDE_on_Colab/localtunnel.log\n",
        "if use_localtunnel:\n",
        "  os.system(\"npm install -g localtunnel\")\n",
        "  os.system(\"nohup lt --port \" + tunnel_port + \" > /content/IDE_on_Colab/localtunnel.log 2>&1 &\")\n",
        "!sleep 10\n",
        "!cat /content/IDE_on_Colab/localtunnel.log | grep \"your url is:\""
      ],
      "metadata": {
        "id": "u8iR0Jls4crI"
      },
      "execution_count": null,
      "outputs": []
    },
    {
      "cell_type": "markdown",
      "source": [
        "# Keep Colab session alive"
      ],
      "metadata": {
        "id": "DGKvsjX35frQ"
      }
    },
    {
      "cell_type": "code",
      "source": [
        "if use_localtunnel:\n",
        "  import numpy as np\n",
        "  import time\n",
        "  ii = 1\n",
        "\n",
        "  while True:\n",
        "    i = np.random.rand(100,100)\n",
        "    i = np.dot(i,i)\n",
        "    i = 'round ' + str(ii)\n",
        "    print(i)\n",
        "    ii = ii + 1\n",
        "    time.sleep(60)\n",
        "else:\n",
        "  print(\"Set your own tunnel below!\")"
      ],
      "metadata": {
        "id": "k-xTm67e5qv7"
      },
      "execution_count": null,
      "outputs": []
    }
  ]
}