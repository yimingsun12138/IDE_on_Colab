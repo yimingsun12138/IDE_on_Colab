{
  "cells": [
    {
      "cell_type": "markdown",
      "metadata": {
        "id": "view-in-github",
        "colab_type": "text"
      },
      "source": [
        "<a href=\"https://colab.research.google.com/github/yimingsun12138/IDE_on_Colab/blob/dev/Web_IDE_on_Colab.ipynb\" target=\"_parent\"><img src=\"https://colab.research.google.com/assets/colab-badge.svg\" alt=\"Open In Colab\"/></a>"
      ]
    },
    {
      "cell_type": "markdown",
      "source": [
        "# Check Google Colab IP location\n",
        "Re-connect the Colab server if you do not like the IP location."
      ],
      "metadata": {
        "id": "sGFzWxqBz2G8"
      }
    },
    {
      "cell_type": "code",
      "source": [
        "!curl getip.mrdoge.cool"
      ],
      "metadata": {
        "id": "tFTkPK0j0Hww"
      },
      "execution_count": null,
      "outputs": []
    },
    {
      "cell_type": "markdown",
      "source": [
        "# Global setting"
      ],
      "metadata": {
        "id": "aJ4W0zvZ0NE5"
      }
    },
    {
      "cell_type": "code",
      "source": [
        "#@title IDE settings { display-mode: \"form\" }\n",
        "\n",
        "#@markdown Choose the IDE and tunnelling method you prefer.\n",
        "\n",
        "web_IDE = 'Rstudio server' #@param [\"Rstudio server\", \"code server\"]\n",
        "tunnelling = 'localtunnel' #@param [\"localtunnel\", \"ngrok\", \"customize\"]"
      ],
      "metadata": {
        "id": "KX7RmeT80QnV"
      },
      "execution_count": null,
      "outputs": []
    },
    {
      "cell_type": "code",
      "source": [
        "#@title User info { display-mode: \"form\" }\n",
        "\n",
        "#@markdown Input the Linux user info.\n",
        "\n",
        "user_name = 'Knight' #@param { type: \"string\" }\n",
        "user_password = 'midnight' #@param { type: \"string\" }"
      ],
      "metadata": {
        "id": "Flizxv8c076L"
      },
      "execution_count": null,
      "outputs": []
    },
    {
      "cell_type": "code",
      "source": [
        "#@title Colab settings { display-mode: \"form\" }\n",
        "\n",
        "#@markdown Choose whether mount Google Drive.\n",
        "\n",
        "mount_Google_Drive = False #@param { type: \"boolean\" }\n",
        "\n",
        "#@markdown Choose whether output detailed running log.\n",
        "\n",
        "running_verbose = False #@param { type: \"boolean\" }\n",
        "\n",
        "#@markdown Choose whether to keep the Colab notebook busy.\n",
        "\n",
        "keep_busy = False #@param { type: \"boolean\" }"
      ],
      "metadata": {
        "id": "lz8NeTYF1joH"
      },
      "execution_count": null,
      "outputs": []
    },
    {
      "cell_type": "markdown",
      "source": [
        "# Update environment"
      ],
      "metadata": {
        "id": "TCraZVoN2yyx"
      }
    },
    {
      "cell_type": "code",
      "source": [
        "%%capture\n",
        "!apt update\n",
        "!apt upgrade\n",
        "!apt autoremove"
      ],
      "metadata": {
        "id": "NpjsOmIT23ix"
      },
      "execution_count": null,
      "outputs": []
    },
    {
      "cell_type": "markdown",
      "source": [
        "# Source code"
      ],
      "metadata": {
        "id": "ormUJzyz3JXv"
      }
    },
    {
      "cell_type": "code",
      "source": [
        "%%capture\n",
        "import os\n",
        "import subprocess\n",
        "!git clone https://github.com/yimingsun12138/IDE_on_Colab.git"
      ],
      "metadata": {
        "id": "EfS8ojw23PKo"
      },
      "execution_count": null,
      "outputs": []
    },
    {
      "cell_type": "code",
      "source": [
        "class Colab_IDE:\n",
        "  def __init__(self,IDE,tunnelling,name,password,mount_GD):\n",
        "    self.IDE = IDE\n",
        "    self.tunnelling = tunnelling\n",
        "    self.name = name\n",
        "    self.password = password\n",
        "    self.mount_GD = mount_GD\n",
        "    self.web_port = 8787\n",
        "\n",
        "    # add Linux user\n",
        "    self.create_user()\n",
        "\n",
        "    # mount Google Drive\n",
        "    self.Google_Drive()\n",
        "\n",
        "  def create_user(self):\n",
        "    os.system(\"useradd -m -s /bin/bash\" + \" \" + str(self.name))\n",
        "    os.system(\"echo '\" + str(self.name) + \":\" + str(self.password) + \"' | chpasswd\")\n",
        "    os.system(\"usermod -G sudo\" + \" \" + str(self.name))\n",
        "  \n",
        "  def Google_Drive(self):\n",
        "    if self.mount_GD:\n",
        "      from google.colab import drive\n",
        "      drive.mount('/content/drive')\n",
        "\n",
        "  # install web IDE\n",
        "\n",
        "  def Install_Rstudio_server(self,web_port=None,verbose=True):\n",
        "\n",
        "    # check param\n",
        "    if (web_port is None):\n",
        "      web_port = self.web_port\n",
        "\n",
        "    # install\n",
        "    char_cmd = \"bash /content/IDE_on_Colab/web_IDE/Install_Rstudio_server.sh\" + \" \" + str(web_port)\n",
        "    Running_log = subprocess.run(char_cmd,capture_output=True,shell=True,check=True,universal_newlines=True)\n",
        "    if verbose:\n",
        "      print(\"stdout:\\n\" + str(Running_log.stdout).replace('\\\\n','\\n'))\n",
        "      print(\"stderr:\\n\" + str(Running_log.stderr).replace('\\\\n','\\n'))\n",
        "\n",
        "  def Install_code_server(self,web_port=None,web_password=None,verbose=True):\n",
        "\n",
        "    # check param\n",
        "    if (web_port is None):\n",
        "      web_port = self.web_port\n",
        "    if (web_password is None):\n",
        "      web_password = self.password\n",
        "\n",
        "    # install\n",
        "    os.system(\"apt install expect\")\n",
        "    char_cmd = \"expect /content/IDE_on_Colab/web_IDE/Install_code_server.exp\" + \" \" + str(self.name) + \" \" + str(self.password) + \" \" + str(web_port) + \" \" + str(web_password)\n",
        "    Running_log = subprocess.run(char_cmd,capture_output=True,shell=True,check=True,universal_newlines=True)\n",
        "    char_cmd = \"expect /content/IDE_on_Colab/web_IDE/Run_code_server.exp\" + \" \" + str(self.name)\n",
        "    os.system(char_cmd)\n",
        "    if verbose:\n",
        "      print(\"stdout:\\n\" + str(Running_log.stdout).replace('\\\\n','\\n'))\n",
        "      print(\"stderr:\\n\" + str(Running_log.stderr).replace('\\\\n','\\n'))\n",
        "\n",
        "  # run tunnelling\n",
        "  def Run_localtunnel(self,web_port=None):\n",
        "\n",
        "    # check param\n",
        "    if (web_port is None):\n",
        "      web_port = self.web_port\n",
        "\n",
        "    # install\n",
        "    char_cmd = \"bash /content/IDE_on_Colab/tunnelling/Run_localtunnel.sh\" + \" \" + str(web_port)\n",
        "    os.system(char_cmd)\n",
        "\n",
        "  def Run_ngrok(self,web_port=None):\n",
        "\n",
        "    # check param\n",
        "    if (web_port is None):\n",
        "      web_port = self.web_port\n",
        "\n",
        "    # input token\n",
        "    ngrok_token = input(\"Input your ngrok token:\")\n",
        "\n",
        "    # install\n",
        "    char_cmd = \"bash /content/IDE_on_Colab/tunnelling/Run_ngrok.sh\" + \" \" + str(ngrok_token) + \" \" + str(web_port)\n",
        "    os.system(char_cmd)"
      ],
      "metadata": {
        "id": "WWef3rsB3vcr"
      },
      "execution_count": null,
      "outputs": []
    },
    {
      "cell_type": "markdown",
      "source": [
        "# Install web IDE"
      ],
      "metadata": {
        "id": "W861LrZw_0xb"
      }
    },
    {
      "cell_type": "code",
      "source": [
        "Google_Colab = Colab_IDE(IDE=web_IDE,tunnelling=tunnelling,name=user_name,password=user_password,mount_GD=mount_Google_Drive)"
      ],
      "metadata": {
        "id": "PcRuzQGY_3ca"
      },
      "execution_count": null,
      "outputs": []
    },
    {
      "cell_type": "code",
      "source": [
        "if (Google_Colab.IDE == 'Rstudio server'):\n",
        "  Google_Colab.Install_Rstudio_server(verbose=running_verbose)\n",
        "elif (Google_Colab.IDE == 'code server'):\n",
        "  Google_Colab.Install_code_server(verbose=running_verbose)"
      ],
      "metadata": {
        "id": "ebofqkZ6AUlN"
      },
      "execution_count": null,
      "outputs": []
    },
    {
      "cell_type": "markdown",
      "source": [
        "# Tunnelling"
      ],
      "metadata": {
        "id": "SSyNGjLXBCY1"
      }
    },
    {
      "cell_type": "code",
      "source": [
        "if (Google_Colab.tunnelling == 'localtunnel'):\n",
        "  Google_Colab.Run_localtunnel()\n",
        "  !cat /content/IDE_on_Colab/localtunnel.log | grep \"your url is:\"\n",
        "elif (Google_Colab.tunnelling == 'ngrok'):\n",
        "  Google_Colab.Run_ngrok()\n",
        "  !cat /content/IDE_on_Colab/ngrok.log | grep 'started tunnel'"
      ],
      "metadata": {
        "id": "vqm4mgMwBFSH"
      },
      "execution_count": null,
      "outputs": []
    },
    {
      "cell_type": "markdown",
      "source": [
        "# Keep Colab notebook busy"
      ],
      "metadata": {
        "id": "Vc9DtiM8BjC1"
      }
    },
    {
      "cell_type": "code",
      "source": [
        "if (Google_Colab.tunnelling == 'customize'):\n",
        "  print(\"Use your own tunnelling method below!\")\n",
        "elif keep_busy:\n",
        "  import numpy as np\n",
        "  import time\n",
        "  ii = 1\n",
        "\n",
        "  while True:\n",
        "    i = np.random.rand(100,100)\n",
        "    i = np.dot(i,i)\n",
        "    i = 'round ' + str(ii)\n",
        "    print(i)\n",
        "    ii = ii + 1\n",
        "    time.sleep(60)"
      ],
      "metadata": {
        "id": "QQuHHId7BnHD"
      },
      "execution_count": null,
      "outputs": []
    }
  ],
  "metadata": {
    "colab": {
      "name": "充分利用您的 Colab 订阅",
      "provenance": [],
      "include_colab_link": true
    },
    "kernelspec": {
      "display_name": "Python 3",
      "name": "python3"
    }
  },
  "nbformat": 4,
  "nbformat_minor": 0
}