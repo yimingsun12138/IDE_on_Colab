{
  "nbformat": 4,
  "nbformat_minor": 0,
  "metadata": {
    "colab": {
      "provenance": [],
      "authorship_tag": "ABX9TyMP5fgkskPNRZkhGgzny+VM",
      "include_colab_link": true
    },
    "kernelspec": {
      "name": "python3",
      "display_name": "Python 3"
    },
    "language_info": {
      "name": "python"
    }
  },
  "cells": [
    {
      "cell_type": "markdown",
      "metadata": {
        "id": "view-in-github",
        "colab_type": "text"
      },
      "source": [
        "<a href=\"https://colab.research.google.com/github/yimingsun12138/IDE_on_Colab/blob/main/Web_IDE_on_Colab.ipynb\" target=\"_parent\"><img src=\"https://colab.research.google.com/assets/colab-badge.svg\" alt=\"Open In Colab\"/></a>"
      ]
    },
    {
      "cell_type": "markdown",
      "source": [
        "# Check Google Colab IP location\n",
        "Re-connect the Colab server if you do not like the IP location."
      ],
      "metadata": {
        "id": "3GZeboM_UT38"
      }
    },
    {
      "cell_type": "code",
      "source": [
        "!curl getip.mrdoge.cool"
      ],
      "metadata": {
        "id": "jGBFZZ3BUjoZ"
      },
      "execution_count": null,
      "outputs": []
    },
    {
      "cell_type": "markdown",
      "source": [
        "# Global setting"
      ],
      "metadata": {
        "id": "hbN_wM62Up7z"
      }
    },
    {
      "cell_type": "code",
      "source": [
        "#@title IDE settings { display-mode: \"form\" }\n",
        "\n",
        "#@markdown Choose the IDE and tunnelling method you prefer.\n",
        "\n",
        "web_IDE = 'Rstudio server' #@param [\"Rstudio server\", \"code server\"]\n",
        "tunnelling = 'localtunnel' #@param [\"localtunnel\", \"ngrok\", \"customize\"]"
      ],
      "metadata": {
        "id": "y4EDhk8jUv1u"
      },
      "execution_count": null,
      "outputs": []
    },
    {
      "cell_type": "code",
      "source": [
        "#@title User info { display-mode: \"form\" }\n",
        "\n",
        "#@markdown Input the Linux user info.\n",
        "\n",
        "user_name = 'Knight' #@param { type: \"string\" }\n",
        "user_password = 'midnight' #@param { type: \"string\" }"
      ],
      "metadata": {
        "id": "GqBZ-_YGU7kb"
      },
      "execution_count": null,
      "outputs": []
    },
    {
      "cell_type": "code",
      "source": [
        "#@title Colab settings { display-mode: \"form\" }\n",
        "\n",
        "#@markdown Choose whether mount Google Drive.\n",
        "\n",
        "mount_Google_Drive = False #@param { type: \"boolean\" }\n",
        "\n",
        "#@markdown Choose whether output detailed running log.\n",
        "\n",
        "running_verbose = False #@param { type: \"boolean\" }\n",
        "\n",
        "#@markdown Choose whether to keep the Colab notebook busy.\n",
        "\n",
        "keep_busy = False #@param { type: \"boolean\" }\n",
        "\n",
        "# check tunnelling\n",
        "if (tunnelling == 'customize'):\n",
        "  keep_busy = False\n",
        "  print('notice: keep_busy will be set to False if using customized tunnelling method!')"
      ],
      "metadata": {
        "id": "c-YbYvcIVDGt"
      },
      "execution_count": null,
      "outputs": []
    },
    {
      "cell_type": "markdown",
      "source": [
        "# Initialize Colab session"
      ],
      "metadata": {
        "id": "6LBmfPDpHHfd"
      }
    },
    {
      "cell_type": "code",
      "source": [
        "!pip install ColabGeek\n",
        "import ColabGeek\n",
        "ColabGeek.update_environment()\n",
        "main = ColabGeek.ColabSession(user=user_name,password=user_password,mount_GD=mount_Google_Drive,keep_busy=keep_busy)"
      ],
      "metadata": {
        "id": "Arl3CgjnHPcd"
      },
      "execution_count": null,
      "outputs": []
    },
    {
      "cell_type": "markdown",
      "source": [
        "# Install web IDE"
      ],
      "metadata": {
        "id": "HYZ_czX6Vrs8"
      }
    },
    {
      "cell_type": "code",
      "source": [
        "if (web_IDE == 'Rstudio server'):\n",
        "  main.Run_Rstudio_server(verbose=running_verbose)\n",
        "elif (web_IDE == 'code server'):\n",
        "  main.Run_code_server(verbose=running_verbose)"
      ],
      "metadata": {
        "id": "siXFVSwoVzgQ"
      },
      "execution_count": null,
      "outputs": []
    },
    {
      "cell_type": "markdown",
      "source": [
        "# Tunnelling"
      ],
      "metadata": {
        "id": "_zUwzkdmV5WX"
      }
    },
    {
      "cell_type": "code",
      "source": [
        "if (tunnelling == 'localtunnel'):\n",
        "  URL = main.Run_localtunnel()\n",
        "  print(URL)\n",
        "elif (tunnelling == 'ngrok'):\n",
        "  URL = main.Run_ngrok()\n",
        "  print(URL)"
      ],
      "metadata": {
        "id": "jn2VmDkRV_sH"
      },
      "execution_count": null,
      "outputs": []
    },
    {
      "cell_type": "markdown",
      "source": [
        "# Keep Colab notebook busy"
      ],
      "metadata": {
        "id": "_7iXVDmDWGRN"
      }
    },
    {
      "cell_type": "code",
      "source": [
        "main.busy_session()"
      ],
      "metadata": {
        "id": "_wNkf3grWK9t"
      },
      "execution_count": null,
      "outputs": []
    },
    {
      "cell_type": "markdown",
      "source": [
        "All done!  \n",
        "Have a nice day!"
      ],
      "metadata": {
        "id": "9oRXngkkYxTQ"
      }
    }
  ]
}